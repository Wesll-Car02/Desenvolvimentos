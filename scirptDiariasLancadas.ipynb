{
 "cells": [
  {
   "cell_type": "markdown",
   "metadata": {},
   "source": [
    "## Bibliotecas"
   ]
  },
  {
   "cell_type": "code",
   "execution_count": 17,
   "metadata": {},
   "outputs": [],
   "source": [
    "# Import necessary modules\n",
    "from selenium import webdriver\n",
    "from selenium.webdriver.common.keys import Keys\n",
    "from selenium.webdriver.common.by import By\n",
    "from selenium.webdriver.edge.service import Service\n",
    "from selenium.webdriver.support.ui import WebDriverWait\n",
    "from selenium.webdriver.support import expected_conditions as EC\n",
    "from webdriver_manager.microsoft import EdgeChromiumDriverManager  # For automatic driver management\n",
    "import time\n",
    "import os\n",
    "import traceback\n",
    "import json\n",
    "import requests"
   ]
  },
  {
   "cell_type": "markdown",
   "metadata": {},
   "source": [
    "## Inicia Drive"
   ]
  },
  {
   "cell_type": "code",
   "execution_count": 18,
   "metadata": {},
   "outputs": [],
   "source": [
    "def iniciar_driver():\n",
    "    # Initialize the WebDriver for Microsoft Edge\n",
    "    service = Service(EdgeChromiumDriverManager().install())\n",
    "    driver = webdriver.Edge(service=service)\n",
    "    return driver\n",
    "\n",
    "# Start the driver\n",
    "driver = iniciar_driver()\n"
   ]
  },
  {
   "cell_type": "markdown",
   "metadata": {},
   "source": [
    "## Navega para o login"
   ]
  },
  {
   "cell_type": "code",
   "execution_count": 19,
   "metadata": {},
   "outputs": [],
   "source": [
    "# Navigate to the login page\n",
    "url_login = 'https://pajucarahoteis.hitspms.net/#/login'\n",
    "driver.get(url_login)\n",
    "\n",
    "# Optionally, wait for the page to load completely\n",
    "time.sleep(5)  # Adjust the sleep time as necessary\n"
   ]
  },
  {
   "cell_type": "code",
   "execution_count": 20,
   "metadata": {},
   "outputs": [
    {
     "name": "stdout",
     "output_type": "stream",
     "text": [
      "Email field found.\n",
      "Password field found.\n"
     ]
    }
   ],
   "source": [
    "try:\n",
    "    # Wait for the email field to be present\n",
    "    email_field = WebDriverWait(driver, 10).until(\n",
    "        EC.presence_of_element_located((By.ID, 'Email'))\n",
    "    )\n",
    "    print(\"Email field found.\")\n",
    "    \n",
    "    # Wait for the password field to be present\n",
    "    password_field = WebDriverWait(driver, 10).until(\n",
    "        EC.presence_of_element_located((By.ID, 'Password'))\n",
    "    )\n",
    "    print(\"Password field found.\")\n",
    "except Exception as e:\n",
    "    print(f\"An error occurred while locating input fields: {type(e).__name__}: {e}\")\n",
    "    traceback.print_exc()\n",
    "    driver.quit()\n"
   ]
  },
  {
   "cell_type": "code",
   "execution_count": 21,
   "metadata": {},
   "outputs": [
    {
     "name": "stdout",
     "output_type": "stream",
     "text": [
      "Credentials entered.\n"
     ]
    }
   ],
   "source": [
    "# Use environment variables for credentials\n",
    "email = os.environ.get('LOGIN_EMAIL_HITS')\n",
    "senha = os.environ.get('LOGIN_SENHA_HITS')\n",
    "\n",
    "# Ensure that the credentials are set\n",
    "if not email or not senha:\n",
    "    print(\"Please set the environment variables LOGIN_EMAIL and LOGIN_SENHA.\")\n",
    "    driver.quit()\n",
    "else:\n",
    "    # Enter the credentials\n",
    "    email_field.send_keys(email)\n",
    "    password_field.send_keys(senha)\n",
    "    print(\"Credentials entered.\")\n"
   ]
  },
  {
   "cell_type": "markdown",
   "metadata": {},
   "source": [
    "## Clica para fazer login"
   ]
  },
  {
   "cell_type": "code",
   "execution_count": 22,
   "metadata": {},
   "outputs": [
    {
     "name": "stdout",
     "output_type": "stream",
     "text": [
      "Login button found.\n",
      "Login button clicked.\n"
     ]
    }
   ],
   "source": [
    "try:\n",
    "    # Locate the login button\n",
    "    login_button = WebDriverWait(driver, 10).until(\n",
    "        EC.element_to_be_clickable((By.CSS_SELECTOR, 'button.button-navbar.hover-tag[type=\"submit\"]'))\n",
    "    )\n",
    "    print(\"Login button found.\")\n",
    "    \n",
    "    # Click the login button\n",
    "    login_button.click()\n",
    "    print(\"Login button clicked.\")\n",
    "    time.sleep(5)\n",
    "except Exception as e:\n",
    "    print(f\"An error occurred while clicking the login button: {type(e).__name__}: {e}\")\n",
    "    traceback.print_exc()\n",
    "    driver.quit()\n"
   ]
  },
  {
   "cell_type": "markdown",
   "metadata": {},
   "source": [
    "## Acessa registro"
   ]
  },
  {
   "cell_type": "code",
   "execution_count": 23,
   "metadata": {},
   "outputs": [
    {
     "name": "stdout",
     "output_type": "stream",
     "text": [
      "Bearer token retrieved from localStorage.\n"
     ]
    }
   ],
   "source": [
    "def get_bearer_token(driver):\n",
    "    try:\n",
    "        # Retrieve the token from localStorage\n",
    "        token = driver.execute_script(\"return localStorage.getItem('authorizationDataToken');\")\n",
    "        if token:\n",
    "            print(\"Bearer token retrieved from localStorage.\")\n",
    "            return token\n",
    "        else:\n",
    "            print(\"Bearer token not found in localStorage.\")\n",
    "            return None\n",
    "    except Exception as e:\n",
    "        print(f\"An error occurred while retrieving the token: {type(e).__name__}: {e}\")\n",
    "        traceback.print_exc()\n",
    "        return None\n",
    "bearer_token = get_bearer_token(driver)"
   ]
  },
  {
   "cell_type": "markdown",
   "metadata": {},
   "source": [
    "## Tenta decodificar o token"
   ]
  },
  {
   "cell_type": "code",
   "execution_count": 24,
   "metadata": {},
   "outputs": [
    {
     "name": "stdout",
     "output_type": "stream",
     "text": [
      "Token Payload: {'nbf': 1730944904, 'exp': 1731031304, 'iss': 'https://susceptor.apphotel.one', 'aud': ['https://susceptor.apphotel.one/resources', 'webapi'], 'client_id': 'B37748FC-ED13-4858-AE26-28AB3512A171', 'sub': '1c8f1b3e-57dd-40ee-9d96-476e8690c29b', 'auth_time': 1730944904, 'idp': 'local', 'scope': ['openid', 'profile', 'webapi'], 'amr': ['pwd']}\n",
      "Token valid from (nbf): 2024-11-07 02:01:44\n",
      "Token expires at (exp): 2024-11-08 02:01:44\n",
      "Current UTC time: 2024-11-07 02:01:55.099014\n",
      "Token is currently valid.\n"
     ]
    }
   ],
   "source": [
    "import jwt\n",
    "\n",
    "# After decoding the token to check expiration\n",
    "try:\n",
    "    token_payload = jwt.decode(bearer_token, options={\"verify_signature\": False})\n",
    "    print(\"Token Payload:\", token_payload)\n",
    "    \n",
    "    # Extract 'nbf' and 'exp' from the token payload\n",
    "    nbf = token_payload.get('nbf')\n",
    "    exp = token_payload.get('exp')\n",
    "    \n",
    "    # Import datetime module\n",
    "    from datetime import datetime\n",
    "\n",
    "    # Convert 'nbf' and 'exp' to datetime objects and print them\n",
    "    if nbf:\n",
    "        nbf_date = datetime.utcfromtimestamp(nbf)\n",
    "        print(f\"Token valid from (nbf): {nbf_date}\")\n",
    "    else:\n",
    "        print(\"Not Before (nbf) claim not found in token.\")\n",
    "\n",
    "    if exp:\n",
    "        exp_date = datetime.utcfromtimestamp(exp)\n",
    "        print(f\"Token expires at (exp): {exp_date}\")\n",
    "    else:\n",
    "        print(\"Expiration time (exp) not found in token.\")\n",
    "\n",
    "    # Get current UTC time\n",
    "    current_time = datetime.utcnow()\n",
    "    print(f\"Current UTC time: {current_time}\")\n",
    "\n",
    "    # Check if the token is valid\n",
    "    if nbf and current_time < nbf_date:\n",
    "        print(\"Token is not yet valid.\")\n",
    "        driver.quit()\n",
    "        exit(1)\n",
    "    elif exp and current_time > exp_date:\n",
    "        print(\"Token has expired.\")\n",
    "        driver.quit()\n",
    "        exit(1)\n",
    "    else:\n",
    "        print(\"Token is currently valid.\")\n",
    "except Exception as e:\n",
    "    print(f\"Error decoding token: {e}\")"
   ]
  },
  {
   "cell_type": "markdown",
   "metadata": {},
   "source": [
    "## Define o caminho para salvar o JSON:"
   ]
  },
  {
   "cell_type": "code",
   "execution_count": 25,
   "metadata": {},
   "outputs": [],
   "source": [
    "# Define the directory and file name\n",
    "directory = r'C:\\Users\\Weslley Carvalho\\OneDrive\\Weslley & Beatriz - Arquivos\\Trabalho\\Projetos\\Weslley e Fellype\\Grupo Pajuçara Hotel\\Scripts\\Dados'\n",
    "file_name = 'api_response.json'\n",
    "file_path = os.path.join(directory, file_name)"
   ]
  },
  {
   "cell_type": "markdown",
   "metadata": {},
   "source": [
    "## Requisita os dados do relatório"
   ]
  },
  {
   "cell_type": "code",
   "execution_count": 26,
   "metadata": {},
   "outputs": [
    {
     "name": "stdout",
     "output_type": "stream",
     "text": [
      "API request successful.\n",
      "Data saved to C:\\Users\\Weslley Carvalho\\OneDrive\\Weslley & Beatriz - Arquivos\\Trabalho\\Projetos\\Weslley e Fellype\\Grupo Pajuçara Hotel\\Scripts\\Dados\\api_response.json\n"
     ]
    }
   ],
   "source": [
    "# Define the API endpoint\n",
    "api_url = 'https://pajucarahoteis.hitspms.net/api/DailiesPosted/GetReportAsync'\n",
    "\n",
    "# Define the query parameters\n",
    "params = {\n",
    "    'DateCriteria': '1',\n",
    "    'StartDate': '2024-11-01',\n",
    "    'EndDate': '2024-11-06'\n",
    "}\n",
    "\n",
    "# Define the headers\n",
    "headers = {\n",
    "    'Accept': 'application/json, text/plain, */*',\n",
    "    'Accept-Encoding': 'gzip, deflate, br, zstd',\n",
    "    'Accept-Language': 'pt-BR,pt;q=0.9,en;q=0.8,en-GB;q=0.7,en-US;q=0.6',\n",
    "    'Authorization': f'Bearer {bearer_token}',\n",
    "    'Connection': 'keep-alive',\n",
    "    'Referer': 'https://pajucarahoteis.hitspms.net/',\n",
    "    'Sec-CH-UA': '\"Chromium\";v=\"130\", \"Microsoft Edge\";v=\"130\", \"Not?A_Brand\";v=\"99\"',\n",
    "    'Sec-CH-UA-Mobile': '?0',\n",
    "    'Sec-CH-UA-Platform': '\"Windows\"',\n",
    "    'Sec-Fetch-Dest': 'empty',\n",
    "    'Sec-Fetch-Mode': 'cors',\n",
    "    'Sec-Fetch-Site': 'same-origin',\n",
    "    'User-Agent': 'Mozilla/5.0 (Windows NT 10.0; Win64; x64) AppleWebKit/537.36 (KHTML, like Gecko) Chrome/130.0.0.0 Safari/537.36 Edg/130.0.0.0',\n",
    "    'X-API-Application-Code': '1',\n",
    "    'X-API-Language-Code': 'pt-br',\n",
    "    'X-API-Property-Code': '2',\n",
    "    'X-API-Version': '2024.6.93',\n",
    "}\n",
    "\n",
    "# Get cookies from Selenium\n",
    "selenium_cookies = driver.get_cookies()\n",
    "\n",
    "# Create a requests session\n",
    "session = requests.Session()\n",
    "\n",
    "# Add cookies to the session\n",
    "for cookie in selenium_cookies:\n",
    "    # Convert Selenium cookie dict to requests cookie dict\n",
    "    session.cookies.set(cookie['name'], cookie['value'], domain=cookie['domain'])\n",
    "\n",
    "\n",
    "# Create a custom session and adapter to disable the 'Expect' header\n",
    "from requests.adapters import HTTPAdapter\n",
    "\n",
    "class CustomHTTPAdapter(HTTPAdapter):\n",
    "    def add_headers(self, request, **kwargs):\n",
    "        # Remove the 'Expect' header if it exists\n",
    "        request.headers.pop('Expect', None)\n",
    "\n",
    "# Use the custom adapter in your session\n",
    "session = requests.Session()\n",
    "session.mount('https://', CustomHTTPAdapter())\n",
    "session.headers.update(headers)\n",
    "\n",
    "# Make the GET request without the 'Expect' header\n",
    "response = session.get(api_url, params=params)\n",
    "\n",
    "time.sleep(5)\n",
    "\n",
    "# Check the response status code\n",
    "if response.status_code == 200:\n",
    "    print(\"API request successful.\")\n",
    "    # Process the JSON data\n",
    "    data = response.json()\n",
    "    \n",
    "    # Save the data to a JSON file\n",
    "    try:\n",
    "        # Ensure the directory exists\n",
    "        os.makedirs(directory, exist_ok=True)\n",
    "        \n",
    "        # Write the data to the file\n",
    "        with open(file_path, 'w', encoding='utf-8') as json_file:\n",
    "            json.dump(data, json_file, ensure_ascii=False, indent=4)\n",
    "        print(f\"Data saved to {file_path}\")\n",
    "    except Exception as e:\n",
    "        print(f\"An error occurred while saving the data: {type(e).__name__}: {e}\")\n",
    "else:\n",
    "    print(f\"API request failed with status code {response.status_code}: {response.text}\")\n"
   ]
  },
  {
   "cell_type": "code",
   "execution_count": 27,
   "metadata": {},
   "outputs": [],
   "source": [
    "# Close the driver\n",
    "# driver.quit()\n"
   ]
  }
 ],
 "metadata": {
  "kernelspec": {
   "display_name": "Python 3",
   "language": "python",
   "name": "python3"
  },
  "language_info": {
   "codemirror_mode": {
    "name": "ipython",
    "version": 3
   },
   "file_extension": ".py",
   "mimetype": "text/x-python",
   "name": "python",
   "nbconvert_exporter": "python",
   "pygments_lexer": "ipython3",
   "version": "3.11.4"
  }
 },
 "nbformat": 4,
 "nbformat_minor": 2
}
